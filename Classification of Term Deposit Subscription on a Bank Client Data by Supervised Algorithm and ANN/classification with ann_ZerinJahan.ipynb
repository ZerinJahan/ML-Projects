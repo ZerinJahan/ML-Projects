{
 "cells": [
  {
   "cell_type": "code",
   "execution_count": 1,
   "metadata": {},
   "outputs": [],
   "source": [
    "# Importing Libraries\n",
    "from sklearn.preprocessing import OneHotEncoder,LabelEncoder\n",
    "import numpy as np\n",
    "import pandas as pd\n",
    "import sklearn as sk\n",
    "import matplotlib.pyplot as plt\n",
    "import seaborn as sns"
   ]
  },
  {
   "cell_type": "code",
   "execution_count": 2,
   "metadata": {},
   "outputs": [],
   "source": [
    "dataset = pd.read_csv('F:/dataset/bank-full.csv')\n"
   ]
  },
  {
   "cell_type": "code",
   "execution_count": 3,
   "metadata": {},
   "outputs": [
    {
     "data": {
      "text/plain": [
       "(45211, 17)"
      ]
     },
     "execution_count": 3,
     "metadata": {},
     "output_type": "execute_result"
    }
   ],
   "source": [
    "dataset.shape"
   ]
  },
  {
   "cell_type": "code",
   "execution_count": 4,
   "metadata": {},
   "outputs": [],
   "source": [
    "new_dataset = dataset.drop(['contact','day', 'month', 'duration', 'campaign','pdays', 'previous'], axis = 1)"
   ]
  },
  {
   "cell_type": "code",
   "execution_count": 5,
   "metadata": {},
   "outputs": [],
   "source": [
    "x = dataset.iloc[:, 0:8].values\n",
    "\n",
    "y = dataset.iloc[:, 9].values"
   ]
  },
  {
   "cell_type": "code",
   "execution_count": 6,
   "metadata": {},
   "outputs": [
    {
     "data": {
      "text/plain": [
       "(45211, 8)"
      ]
     },
     "execution_count": 6,
     "metadata": {},
     "output_type": "execute_result"
    }
   ],
   "source": [
    "x.shape"
   ]
  },
  {
   "cell_type": "code",
   "execution_count": 7,
   "metadata": {},
   "outputs": [],
   "source": [
    "enc_onehot = OneHotEncoder()\n",
    "\n",
    "x=enc_onehot.fit_transform(new_dataset[['job','marital', 'education','default', 'housing', 'loan', 'poutcome']]).toarray()\n"
   ]
  },
  {
   "cell_type": "code",
   "execution_count": 8,
   "metadata": {},
   "outputs": [],
   "source": [
    "enc_label = LabelEncoder()\n",
    "\n",
    "y = enc_label.fit_transform(new_dataset['y'])"
   ]
  },
  {
   "cell_type": "code",
   "execution_count": 9,
   "metadata": {},
   "outputs": [],
   "source": [
    "from sklearn.model_selection import train_test_split\n",
    "x_train, x_test, y_train, y_test = train_test_split(x, y, test_size = 0.2, random_state = 0)"
   ]
  },
  {
   "cell_type": "code",
   "execution_count": 10,
   "metadata": {},
   "outputs": [],
   "source": [
    "from sklearn.preprocessing import StandardScaler\n",
    "sc=StandardScaler()\n",
    "x_train_s=sc.fit_transform(x_train)\n",
    "x_test_s=sc.transform(x_test)"
   ]
  },
  {
   "cell_type": "code",
   "execution_count": 11,
   "metadata": {},
   "outputs": [
    {
     "name": "stderr",
     "output_type": "stream",
     "text": [
      "Using TensorFlow backend.\n"
     ]
    }
   ],
   "source": [
    "import tensorflow as tf\n",
    "import keras\n",
    "#creating model with keras\n",
    " \n",
    "from keras.models import Sequential\n",
    "from keras.layers import Dense"
   ]
  },
  {
   "cell_type": "code",
   "execution_count": 17,
   "metadata": {},
   "outputs": [],
   "source": [
    "classifier = Sequential()\n",
    "#adding input & hiddenlayer\n",
    "classifier.add(Dense(5,activation='relu',input_shape=(29,)))\n"
   ]
  },
  {
   "cell_type": "code",
   "execution_count": 18,
   "metadata": {},
   "outputs": [],
   "source": [
    "#output layer\n",
    "\n",
    "classifier.add(Dense(2,  activation = 'softmax'))"
   ]
  },
  {
   "cell_type": "code",
   "execution_count": 19,
   "metadata": {},
   "outputs": [],
   "source": [
    "classifier.compile(optimizer = 'adam', loss = 'sparse_categorical_crossentropy',  metrics = ['accuracy'])"
   ]
  },
  {
   "cell_type": "code",
   "execution_count": 20,
   "metadata": {},
   "outputs": [
    {
     "name": "stdout",
     "output_type": "stream",
     "text": [
      "Train on 28934 samples, validate on 7234 samples\n",
      "Epoch 1/10\n",
      "28934/28934 [==============================] - 5s 170us/step - loss: 0.3292 - accuracy: 0.8887 - val_loss: 0.3219 - val_accuracy: 0.8923\n",
      "Epoch 2/10\n",
      "28934/28934 [==============================] - 4s 151us/step - loss: 0.3177 - accuracy: 0.8936 - val_loss: 0.3221 - val_accuracy: 0.8925\n",
      "Epoch 3/10\n",
      "28934/28934 [==============================] - 4s 149us/step - loss: 0.3176 - accuracy: 0.8936 - val_loss: 0.3209 - val_accuracy: 0.8920\n",
      "Epoch 4/10\n",
      "28934/28934 [==============================] - 5s 170us/step - loss: 0.3174 - accuracy: 0.8938 - val_loss: 0.3197 - val_accuracy: 0.8919\n",
      "Epoch 5/10\n",
      "28934/28934 [==============================] - 4s 153us/step - loss: 0.3172 - accuracy: 0.8940 - val_loss: 0.3202 - val_accuracy: 0.8922\n",
      "Epoch 6/10\n",
      "28934/28934 [==============================] - 5s 168us/step - loss: 0.3167 - accuracy: 0.8938 - val_loss: 0.3210 - val_accuracy: 0.8923\n",
      "Epoch 7/10\n",
      "28934/28934 [==============================] - 5s 161us/step - loss: 0.3171 - accuracy: 0.8937 - val_loss: 0.3200 - val_accuracy: 0.8920\n",
      "Epoch 8/10\n",
      "28934/28934 [==============================] - 5s 164us/step - loss: 0.3169 - accuracy: 0.8938 - val_loss: 0.3206 - val_accuracy: 0.8920\n",
      "Epoch 9/10\n",
      "28934/28934 [==============================] - 4s 151us/step - loss: 0.3167 - accuracy: 0.8936 - val_loss: 0.3204 - val_accuracy: 0.8918\n",
      "Epoch 10/10\n",
      "28934/28934 [==============================] - 6s 209us/step - loss: 0.3166 - accuracy: 0.8940 - val_loss: 0.3221 - val_accuracy: 0.8913\n"
     ]
    }
   ],
   "source": [
    "result = classifier.fit(x_train, y_train,  validation_split=0.2, batch_size = 10, epochs = 10)"
   ]
  },
  {
   "cell_type": "code",
   "execution_count": 16,
   "metadata": {},
   "outputs": [
    {
     "data": {
      "text/plain": [
       "<matplotlib.legend.Legend at 0x21d81db5148>"
      ]
     },
     "execution_count": 16,
     "metadata": {},
     "output_type": "execute_result"
    },
    {
     "data": {
      "image/png": "[encoded data removed]",
      "text/plain": [
       "<Figure size 432x288 with 1 Axes>"
      ]
     },
     "metadata": {
      "needs_background": "light"
     },
     "output_type": "display_data"
    }
   ],
   "source": [
    "accuracy = result.history['accuracy'] \n",
    "validation_accuracy = result.history['val_accuracy']\n",
    "plt.plot(accuracy, label='Training Set Accuracy') \n",
    "plt.plot(validation_accuracy, label='Validation Set Accuracy') \n",
    "plt.ylabel('Accuracy') \n",
    "plt.ylim([min(plt.ylim([0.80,0.895])),1])\n",
    "plt.title('Training and Validation Accuracy Across Epochs')\n",
    "plt.legend()"
   ]
  },
  {
   "cell_type": "code",
   "execution_count": 21,
   "metadata": {},
   "outputs": [
    {
     "data": {
      "text/plain": [
       "<matplotlib.legend.Legend at 0x21d821eac08>"
      ]
     },
     "execution_count": 21,
     "metadata": {},
     "output_type": "execute_result"
    },
    {
     "data": {
      "image/png": "[encoded data removed]",
      "text/plain": [
       "<Figure size 432x288 with 1 Axes>"
      ]
     },
     "metadata": {
      "needs_background": "light"
     },
     "output_type": "display_data"
    }
   ],
   "source": [
    "loss = result.history['loss']\n",
    "validation_loss = result.history['val_loss'] \n",
    "plt.plot(loss, label='Training Set Loss') \n",
    "plt.plot(validation_loss, label='Validation Set Loss') \n",
    "plt.ylabel('Loss') \n",
    "plt.title('Training and Validation Accuracy Across Epochs') \n",
    "plt.legend()"
   ]
  },
  {
   "cell_type": "code",
   "execution_count": 22,
   "metadata": {},
   "outputs": [],
   "source": [
    "from sklearn.metrics import confusion_matrix, classification_report\n",
    "y_pred = classifier.predict(x_test_s) \n",
    "y_pred = y_pred.argmax(axis=1)"
   ]
  },
  {
   "cell_type": "code",
   "execution_count": 23,
   "metadata": {},
   "outputs": [
    {
     "data": {
      "image/png": "[encoded data removed]",
      "text/plain": [
       "<Figure size 432x288 with 2 Axes>"
      ]
     },
     "metadata": {
      "needs_background": "light"
     },
     "output_type": "display_data"
    }
   ],
   "source": [
    "confusion_matrix = confusion_matrix(y_test,y_pred)\n",
    "ax = sns.heatmap(confusion_matrix, cmap='BuPu',annot=True, fmt='d') \n",
    "plt.xlabel(\"Predicted Class\",fontsize=12)\n",
    "plt.ylabel(\"True Class\",fontsize=12) \n",
    "plt.title(\"Confusion Matrix\",fontsize=12)\n",
    "plt.show()"
   ]
  },
  {
   "cell_type": "code",
   "execution_count": 24,
   "metadata": {},
   "outputs": [
    {
     "name": "stdout",
     "output_type": "stream",
     "text": [
      "              precision    recall  f1-score   support\n",
      "\n",
      "           0       0.90      0.96      0.93      7980\n",
      "           1       0.44      0.23      0.30      1063\n",
      "\n",
      "    accuracy                           0.87      9043\n",
      "   macro avg       0.67      0.60      0.62      9043\n",
      "weighted avg       0.85      0.87      0.86      9043\n",
      "\n"
     ]
    }
   ],
   "source": [
    "print(classification_report(y_test,y_pred))"
   ]
  },
  {
   "cell_type": "code",
   "execution_count": 25,
   "metadata": {},
   "outputs": [
    {
     "name": "stdout",
     "output_type": "stream",
     "text": [
      "Collecting package metadata (current_repodata.json): ...working... done\n",
      "Solving environment: ...working... done\n",
      "\n",
      "## Package Plan ##\n",
      "\n",
      "  environment location: C:\\Users\\user\\anaconda3\\envs\\tf\n",
      "\n",
      "  added / updated specs:\n",
      "    - imbalanced-learn\n",
      "\n",
      "\n",
      "The following packages will be downloaded:\n",
      "\n",
      "    package                    |            build\n",
      "    ---------------------------|-----------------\n",
      "    ca-certificates-2022.12.7  |       h5b45459_0         143 KB  conda-forge\n",
      "    certifi-2022.12.7          |     pyhd8ed1ab_0         147 KB  conda-forge\n",
      "    ------------------------------------------------------------\n",
      "                                           Total:         290 KB\n",
      "\n",
      "The following packages will be UPDATED:\n",
      "\n",
      "  ca-certificates                      2022.9.24-h5b45459_0 --> 2022.12.7-h5b45459_0 None\n",
      "  certifi                            2022.9.24-pyhd8ed1ab_0 --> 2022.12.7-pyhd8ed1ab_0 None\n",
      "\n",
      "\n",
      "\n",
      "Downloading and Extracting Packages\n",
      "\n",
      "certifi-2022.12.7    | 147 KB    |            |   0% \n",
      "certifi-2022.12.7    | 147 KB    | #          |  11% \n",
      "certifi-2022.12.7    | 147 KB    | ########## | 100% \n",
      "Note: you may need to restart the kernel to use updated packages.\n",
      "certifi-2022.12.7    | 147 KB    | ########## | 100% \n",
      "\n"
     ]
    },
    {
     "name": "stderr",
     "output_type": "stream",
     "text": [
      "\n",
      "\n",
      "==> WARNING: A newer version of conda exists. <==\n",
      "  current version: 22.9.0\n",
      "  latest version: 22.11.1\n",
      "\n",
      "Please update conda by running\n",
      "\n",
      "    $ conda update -n base -c conda-forge conda\n",
      "\n",
      "\n"
     ]
    },
    {
     "name": "stdout",
     "output_type": "stream",
     "text": [
      "\n",
      "ca-certificates-2022 | 143 KB    |            |   0% \n",
      "ca-certificates-2022 | 143 KB    | ########## | 100% \n",
      "ca-certificates-2022 | 143 KB    | ########## | 100% \n",
      "Preparing transaction: ...working... done\n",
      "Verifying transaction: ...working... done\n",
      "Executing transaction: ...working... done\n",
      "Retrieving notices: ...working... done\n"
     ]
    }
   ],
   "source": [
    "conda install -c conda-forge imbalanced-learn "
   ]
  },
  {
   "cell_type": "code",
   "execution_count": 26,
   "metadata": {},
   "outputs": [],
   "source": [
    "import imblearn\n",
    "\n"
   ]
  },
  {
   "cell_type": "code",
   "execution_count": 27,
   "metadata": {},
   "outputs": [],
   "source": [
    "from imblearn.over_sampling import SMOTE\n",
    "resampler = SMOTE(random_state = 0)\n",
    "x_train_smote, y_train_smote = resampler.fit_resample(x_train, y_train)"
   ]
  },
  {
   "cell_type": "code",
   "execution_count": 33,
   "metadata": {},
   "outputs": [],
   "source": [
    "classifier = Sequential()\n",
    "#adding input & hiddenlayer\n",
    "\n",
    "classifier.add(Dense(4,activation='relu',input_shape=(29,)))"
   ]
  },
  {
   "cell_type": "code",
   "execution_count": 34,
   "metadata": {},
   "outputs": [],
   "source": [
    "#output layer\n",
    "\n",
    "classifier.add(Dense(2,  activation = 'softmax'))"
   ]
  },
  {
   "cell_type": "code",
   "execution_count": 35,
   "metadata": {},
   "outputs": [],
   "source": [
    "from sklearn.preprocessing import StandardScaler\n",
    "sc=StandardScaler()\n",
    "x_train_sm=sc.fit_transform(x_train_smote)\n",
    "x_test_sm=sc.transform(x_test)"
   ]
  },
  {
   "cell_type": "code",
   "execution_count": 36,
   "metadata": {},
   "outputs": [],
   "source": [
    "classifier.compile(optimizer = 'adam', loss = 'sparse_categorical_crossentropy',  metrics = ['accuracy'])"
   ]
  },
  {
   "cell_type": "code",
   "execution_count": 37,
   "metadata": {},
   "outputs": [
    {
     "name": "stdout",
     "output_type": "stream",
     "text": [
      "Train on 51107 samples, validate on 12777 samples\n",
      "Epoch 1/10\n",
      "51107/51107 [==============================] - 8s 161us/step - loss: 0.5973 - accuracy: 0.6913 - val_loss: 0.8694 - val_accuracy: 0.3412\n",
      "Epoch 2/10\n",
      "51107/51107 [==============================] - 8s 164us/step - loss: 0.5759 - accuracy: 0.7085 - val_loss: 0.8165 - val_accuracy: 0.4507\n",
      "Epoch 3/10\n",
      "51107/51107 [==============================] - 8s 156us/step - loss: 0.5753 - accuracy: 0.7092 - val_loss: 0.8512 - val_accuracy: 0.4006\n",
      "Epoch 4/10\n",
      "51107/51107 [==============================] - 8s 164us/step - loss: 0.5750 - accuracy: 0.7089 - val_loss: 0.8738 - val_accuracy: 0.3597\n",
      "Epoch 5/10\n",
      "51107/51107 [==============================] - 8s 149us/step - loss: 0.5746 - accuracy: 0.7095 - val_loss: 0.8123 - val_accuracy: 0.4309\n",
      "Epoch 6/10\n",
      "51107/51107 [==============================] - 8s 163us/step - loss: 0.5746 - accuracy: 0.7083 - val_loss: 0.8717 - val_accuracy: 0.3561\n",
      "Epoch 7/10\n",
      "51107/51107 [==============================] - 8s 150us/step - loss: 0.5744 - accuracy: 0.7085 - val_loss: 0.8667 - val_accuracy: 0.3830\n",
      "Epoch 8/10\n",
      "51107/51107 [==============================] - 9s 167us/step - loss: 0.5745 - accuracy: 0.7091 - val_loss: 0.8392 - val_accuracy: 0.4378\n",
      "Epoch 9/10\n",
      "51107/51107 [==============================] - 8s 149us/step - loss: 0.5745 - accuracy: 0.7099 - val_loss: 0.8824 - val_accuracy: 0.3416\n",
      "Epoch 10/10\n",
      "51107/51107 [==============================] - 8s 165us/step - loss: 0.5743 - accuracy: 0.7080 - val_loss: 0.8376 - val_accuracy: 0.3956\n"
     ]
    }
   ],
   "source": [
    "result = classifier.fit(x_train_sm, y_train_smote,  validation_split=0.2, batch_size = 10, epochs = 10)"
   ]
  },
  {
   "cell_type": "code",
   "execution_count": 38,
   "metadata": {},
   "outputs": [],
   "source": [
    "from sklearn.metrics import confusion_matrix, classification_report\n",
    "y_pred = classifier.predict(x_test_sm) \n",
    "y_pred = y_pred.argmax(axis=1)"
   ]
  },
  {
   "cell_type": "code",
   "execution_count": 39,
   "metadata": {},
   "outputs": [
    {
     "data": {
      "image/png": "[encoded data removed]",
      "text/plain": [
       "<Figure size 432x288 with 2 Axes>"
      ]
     },
     "metadata": {
      "needs_background": "light"
     },
     "output_type": "display_data"
    }
   ],
   "source": [
    "confusion_matrix = confusion_matrix(y_test,y_pred)\n",
    "ax = sns.heatmap(confusion_matrix, cmap='BuPu',annot=True, fmt='d') \n",
    "plt.xlabel(\"Predicted Class\",fontsize=12)\n",
    "plt.ylabel(\"True Class\",fontsize=12) \n",
    "plt.title(\"Confusion Matrix\",fontsize=12)\n",
    "plt.show()"
   ]
  },
  {
   "cell_type": "code",
   "execution_count": 40,
   "metadata": {},
   "outputs": [
    {
     "name": "stdout",
     "output_type": "stream",
     "text": [
      "              precision    recall  f1-score   support\n",
      "\n",
      "           0       0.92      0.90      0.91      7980\n",
      "           1       0.35      0.40      0.37      1063\n",
      "\n",
      "    accuracy                           0.84      9043\n",
      "   macro avg       0.63      0.65      0.64      9043\n",
      "weighted avg       0.85      0.84      0.85      9043\n",
      "\n"
     ]
    }
   ],
   "source": [
    "print(classification_report(y_test,y_pred))"
   ]
  },
  {
   "cell_type": "code",
   "execution_count": null,
   "metadata": {},
   "outputs": [],
   "source": []
  }
 ],
 "metadata": {
  "kernelspec": {
   "display_name": "Python 3",
   "language": "python",
   "name": "python3"
  },
  "language_info": {
   "codemirror_mode": {
    "name": "ipython",
    "version": 3
   },
   "file_extension": ".py",
   "mimetype": "text/x-python",
   "name": "python",
   "nbconvert_exporter": "python",
   "pygments_lexer": "ipython3",
   "version": "3.7.7"
  }
 },
 "nbformat": 4,
 "nbformat_minor": 4
}
